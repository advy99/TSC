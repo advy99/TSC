{
 "cells": [
  {
   "cell_type": "code",
   "execution_count": 2,
   "metadata": {},
   "outputs": [],
   "source": [
    "# Import pandas \n",
    "import pandas as pd\n",
    "\n",
    "# Read in white wine data \n",
    "white = pd.read_csv('winequality-white.csv', sep=';')\n",
    "\n",
    "# Read in red wine data \n",
    "red = pd.read_csv('winequality-red.csv', sep=';')\n",
    "\n"
   ]
  },
  {
   "cell_type": "code",
   "execution_count": 3,
   "metadata": {},
   "outputs": [
    {
     "name": "stderr",
     "output_type": "stream",
     "text": [
      "/tmp/ipykernel_12945/2345101105.py:8: FutureWarning: The frame.append method is deprecated and will be removed from pandas in a future version. Use pandas.concat instead.\n",
      "  wines = red.append(white, ignore_index=True)\n"
     ]
    }
   ],
   "source": [
    "# Add `type` column to `red` with value 1\n",
    "red['type'] = 1\n",
    "\n",
    "# Add `type` column to `white` with value 0\n",
    "white['type'] = 0\n",
    "\n",
    "# Append `white` to `red`\n",
    "wines = red.append(white, ignore_index=True)"
   ]
  },
  {
   "cell_type": "code",
   "execution_count": 4,
   "metadata": {
    "scrolled": true
   },
   "outputs": [
    {
     "data": {
      "text/html": [
       "<div>\n",
       "<style scoped>\n",
       "    .dataframe tbody tr th:only-of-type {\n",
       "        vertical-align: middle;\n",
       "    }\n",
       "\n",
       "    .dataframe tbody tr th {\n",
       "        vertical-align: top;\n",
       "    }\n",
       "\n",
       "    .dataframe thead th {\n",
       "        text-align: right;\n",
       "    }\n",
       "</style>\n",
       "<table border=\"1\" class=\"dataframe\">\n",
       "  <thead>\n",
       "    <tr style=\"text-align: right;\">\n",
       "      <th></th>\n",
       "      <th>fixed acidity</th>\n",
       "      <th>volatile acidity</th>\n",
       "      <th>citric acid</th>\n",
       "      <th>residual sugar</th>\n",
       "      <th>chlorides</th>\n",
       "      <th>free sulfur dioxide</th>\n",
       "      <th>total sulfur dioxide</th>\n",
       "      <th>density</th>\n",
       "      <th>pH</th>\n",
       "      <th>sulphates</th>\n",
       "      <th>alcohol</th>\n",
       "      <th>quality</th>\n",
       "      <th>type</th>\n",
       "    </tr>\n",
       "  </thead>\n",
       "  <tbody>\n",
       "    <tr>\n",
       "      <th>0</th>\n",
       "      <td>7.4</td>\n",
       "      <td>0.70</td>\n",
       "      <td>0.00</td>\n",
       "      <td>1.9</td>\n",
       "      <td>0.076</td>\n",
       "      <td>11.0</td>\n",
       "      <td>34.0</td>\n",
       "      <td>0.99780</td>\n",
       "      <td>3.51</td>\n",
       "      <td>0.56</td>\n",
       "      <td>9.4</td>\n",
       "      <td>5</td>\n",
       "      <td>1</td>\n",
       "    </tr>\n",
       "    <tr>\n",
       "      <th>1</th>\n",
       "      <td>7.8</td>\n",
       "      <td>0.88</td>\n",
       "      <td>0.00</td>\n",
       "      <td>2.6</td>\n",
       "      <td>0.098</td>\n",
       "      <td>25.0</td>\n",
       "      <td>67.0</td>\n",
       "      <td>0.99680</td>\n",
       "      <td>3.20</td>\n",
       "      <td>0.68</td>\n",
       "      <td>9.8</td>\n",
       "      <td>5</td>\n",
       "      <td>1</td>\n",
       "    </tr>\n",
       "    <tr>\n",
       "      <th>2</th>\n",
       "      <td>7.8</td>\n",
       "      <td>0.76</td>\n",
       "      <td>0.04</td>\n",
       "      <td>2.3</td>\n",
       "      <td>0.092</td>\n",
       "      <td>15.0</td>\n",
       "      <td>54.0</td>\n",
       "      <td>0.99700</td>\n",
       "      <td>3.26</td>\n",
       "      <td>0.65</td>\n",
       "      <td>9.8</td>\n",
       "      <td>5</td>\n",
       "      <td>1</td>\n",
       "    </tr>\n",
       "    <tr>\n",
       "      <th>3</th>\n",
       "      <td>11.2</td>\n",
       "      <td>0.28</td>\n",
       "      <td>0.56</td>\n",
       "      <td>1.9</td>\n",
       "      <td>0.075</td>\n",
       "      <td>17.0</td>\n",
       "      <td>60.0</td>\n",
       "      <td>0.99800</td>\n",
       "      <td>3.16</td>\n",
       "      <td>0.58</td>\n",
       "      <td>9.8</td>\n",
       "      <td>6</td>\n",
       "      <td>1</td>\n",
       "    </tr>\n",
       "    <tr>\n",
       "      <th>4</th>\n",
       "      <td>7.4</td>\n",
       "      <td>0.70</td>\n",
       "      <td>0.00</td>\n",
       "      <td>1.9</td>\n",
       "      <td>0.076</td>\n",
       "      <td>11.0</td>\n",
       "      <td>34.0</td>\n",
       "      <td>0.99780</td>\n",
       "      <td>3.51</td>\n",
       "      <td>0.56</td>\n",
       "      <td>9.4</td>\n",
       "      <td>5</td>\n",
       "      <td>1</td>\n",
       "    </tr>\n",
       "    <tr>\n",
       "      <th>...</th>\n",
       "      <td>...</td>\n",
       "      <td>...</td>\n",
       "      <td>...</td>\n",
       "      <td>...</td>\n",
       "      <td>...</td>\n",
       "      <td>...</td>\n",
       "      <td>...</td>\n",
       "      <td>...</td>\n",
       "      <td>...</td>\n",
       "      <td>...</td>\n",
       "      <td>...</td>\n",
       "      <td>...</td>\n",
       "      <td>...</td>\n",
       "    </tr>\n",
       "    <tr>\n",
       "      <th>6492</th>\n",
       "      <td>6.2</td>\n",
       "      <td>0.21</td>\n",
       "      <td>0.29</td>\n",
       "      <td>1.6</td>\n",
       "      <td>0.039</td>\n",
       "      <td>24.0</td>\n",
       "      <td>92.0</td>\n",
       "      <td>0.99114</td>\n",
       "      <td>3.27</td>\n",
       "      <td>0.50</td>\n",
       "      <td>11.2</td>\n",
       "      <td>6</td>\n",
       "      <td>0</td>\n",
       "    </tr>\n",
       "    <tr>\n",
       "      <th>6493</th>\n",
       "      <td>6.6</td>\n",
       "      <td>0.32</td>\n",
       "      <td>0.36</td>\n",
       "      <td>8.0</td>\n",
       "      <td>0.047</td>\n",
       "      <td>57.0</td>\n",
       "      <td>168.0</td>\n",
       "      <td>0.99490</td>\n",
       "      <td>3.15</td>\n",
       "      <td>0.46</td>\n",
       "      <td>9.6</td>\n",
       "      <td>5</td>\n",
       "      <td>0</td>\n",
       "    </tr>\n",
       "    <tr>\n",
       "      <th>6494</th>\n",
       "      <td>6.5</td>\n",
       "      <td>0.24</td>\n",
       "      <td>0.19</td>\n",
       "      <td>1.2</td>\n",
       "      <td>0.041</td>\n",
       "      <td>30.0</td>\n",
       "      <td>111.0</td>\n",
       "      <td>0.99254</td>\n",
       "      <td>2.99</td>\n",
       "      <td>0.46</td>\n",
       "      <td>9.4</td>\n",
       "      <td>6</td>\n",
       "      <td>0</td>\n",
       "    </tr>\n",
       "    <tr>\n",
       "      <th>6495</th>\n",
       "      <td>5.5</td>\n",
       "      <td>0.29</td>\n",
       "      <td>0.30</td>\n",
       "      <td>1.1</td>\n",
       "      <td>0.022</td>\n",
       "      <td>20.0</td>\n",
       "      <td>110.0</td>\n",
       "      <td>0.98869</td>\n",
       "      <td>3.34</td>\n",
       "      <td>0.38</td>\n",
       "      <td>12.8</td>\n",
       "      <td>7</td>\n",
       "      <td>0</td>\n",
       "    </tr>\n",
       "    <tr>\n",
       "      <th>6496</th>\n",
       "      <td>6.0</td>\n",
       "      <td>0.21</td>\n",
       "      <td>0.38</td>\n",
       "      <td>0.8</td>\n",
       "      <td>0.020</td>\n",
       "      <td>22.0</td>\n",
       "      <td>98.0</td>\n",
       "      <td>0.98941</td>\n",
       "      <td>3.26</td>\n",
       "      <td>0.32</td>\n",
       "      <td>11.8</td>\n",
       "      <td>6</td>\n",
       "      <td>0</td>\n",
       "    </tr>\n",
       "  </tbody>\n",
       "</table>\n",
       "<p>6497 rows × 13 columns</p>\n",
       "</div>"
      ],
      "text/plain": [
       "      fixed acidity  volatile acidity  citric acid  residual sugar  chlorides  \\\n",
       "0               7.4              0.70         0.00             1.9      0.076   \n",
       "1               7.8              0.88         0.00             2.6      0.098   \n",
       "2               7.8              0.76         0.04             2.3      0.092   \n",
       "3              11.2              0.28         0.56             1.9      0.075   \n",
       "4               7.4              0.70         0.00             1.9      0.076   \n",
       "...             ...               ...          ...             ...        ...   \n",
       "6492            6.2              0.21         0.29             1.6      0.039   \n",
       "6493            6.6              0.32         0.36             8.0      0.047   \n",
       "6494            6.5              0.24         0.19             1.2      0.041   \n",
       "6495            5.5              0.29         0.30             1.1      0.022   \n",
       "6496            6.0              0.21         0.38             0.8      0.020   \n",
       "\n",
       "      free sulfur dioxide  total sulfur dioxide  density    pH  sulphates  \\\n",
       "0                    11.0                  34.0  0.99780  3.51       0.56   \n",
       "1                    25.0                  67.0  0.99680  3.20       0.68   \n",
       "2                    15.0                  54.0  0.99700  3.26       0.65   \n",
       "3                    17.0                  60.0  0.99800  3.16       0.58   \n",
       "4                    11.0                  34.0  0.99780  3.51       0.56   \n",
       "...                   ...                   ...      ...   ...        ...   \n",
       "6492                 24.0                  92.0  0.99114  3.27       0.50   \n",
       "6493                 57.0                 168.0  0.99490  3.15       0.46   \n",
       "6494                 30.0                 111.0  0.99254  2.99       0.46   \n",
       "6495                 20.0                 110.0  0.98869  3.34       0.38   \n",
       "6496                 22.0                  98.0  0.98941  3.26       0.32   \n",
       "\n",
       "      alcohol  quality  type  \n",
       "0         9.4        5     1  \n",
       "1         9.8        5     1  \n",
       "2         9.8        5     1  \n",
       "3         9.8        6     1  \n",
       "4         9.4        5     1  \n",
       "...       ...      ...   ...  \n",
       "6492     11.2        6     0  \n",
       "6493      9.6        5     0  \n",
       "6494      9.4        6     0  \n",
       "6495     12.8        7     0  \n",
       "6496     11.8        6     0  \n",
       "\n",
       "[6497 rows x 13 columns]"
      ]
     },
     "execution_count": 4,
     "metadata": {},
     "output_type": "execute_result"
    }
   ],
   "source": [
    "wines"
   ]
  },
  {
   "cell_type": "code",
   "execution_count": 5,
   "metadata": {},
   "outputs": [],
   "source": [
    "X=wines.iloc[:,0:12]"
   ]
  },
  {
   "cell_type": "code",
   "execution_count": 7,
   "metadata": {},
   "outputs": [],
   "source": [
    "X=wines.drop('quality',axis=1)"
   ]
  },
  {
   "cell_type": "code",
   "execution_count": 8,
   "metadata": {},
   "outputs": [],
   "source": [
    "# Isolate target labels\n",
    "#Y = wines.quality\n",
    "import numpy as np \n",
    "Y=np.ravel(wines.quality)"
   ]
  },
  {
   "cell_type": "code",
   "execution_count": 18,
   "metadata": {},
   "outputs": [],
   "source": [
    "# Import `StandardScaler` from `sklearn.preprocessing`\n",
    "from sklearn.preprocessing import StandardScaler\n",
    "from sklearn.model_selection import train_test_split\n",
    "\n",
    "# Scale\n",
    "X_scaled=StandardScaler().fit_transform(X)\n",
    "\n",
    "X_train, X_test, y_train, y_test = train_test_split(X_scaled, Y, test_size = 0.33)"
   ]
  },
  {
   "cell_type": "code",
   "execution_count": 24,
   "metadata": {
    "scrolled": true
   },
   "outputs": [
    {
     "name": "stderr",
     "output_type": "stream",
     "text": [
      "/usr/lib/python3.10/site-packages/sklearn/model_selection/_split.py:676: UserWarning: The least populated class in y has only 3 members, which is less than n_splits=5.\n",
      "  warnings.warn(\n"
     ]
    },
    {
     "name": "stdout",
     "output_type": "stream",
     "text": [
      "MSE medio en CV: 0.5540800571441651\n",
      "MAE medio en CV: 0.5740652680397034\n",
      "MSE en test:  0.540870189666748\n"
     ]
    }
   ],
   "source": [
    "# Import `Sequential` from `keras.models`\n",
    "from keras import Sequential\n",
    "\n",
    "# Import `Dense` from `keras.layers`\n",
    "from keras.layers import Dense\n",
    "\n",
    "import numpy as np\n",
    "from sklearn.model_selection import StratifiedKFold\n",
    "\n",
    "seed = 7\n",
    "np.random.seed(seed)\n",
    "\n",
    "mae_medio_cv = 0\n",
    "mse_medio_cv = 0\n",
    "num_splits = 5\n",
    "\n",
    "kfold = StratifiedKFold(n_splits=num_splits, shuffle=True, random_state=seed)\n",
    "for train, test in kfold.split(X_train, y_train):\n",
    "    model = Sequential()\n",
    "    model.add(Dense(64, input_dim=12, activation='relu'))\n",
    "    model.add(Dense(1))\n",
    "    model.compile(optimizer='rmsprop', loss='mse', metrics=['mae'])\n",
    "    model.fit(X_train[train], y_train[train], epochs=10,verbose=0)\n",
    "    mse_value_cv, mae_value_cv=model.evaluate(X_train[test], y_train[test], verbose=0)\n",
    "    mse_medio_cv += mse_value_cv\n",
    "    mae_medio_cv += mae_value_cv\n",
    "\n",
    "mse_medio_cv /= num_splits\n",
    "mae_medio_cv /= num_splits\n",
    "\n",
    "print(\"MSE medio en CV:\", mse_medio_cv)\n",
    "print(\"MAE medio en CV:\", mae_medio_cv)\n",
    "\n",
    "y_pred = model.predict(X_test)\n",
    "mse_value, mae_value=model.evaluate(X_test, y_test, verbose=0)\n",
    "print(\"MSE en test: \", mse_value)"
   ]
  },
  {
   "cell_type": "code",
   "execution_count": 25,
   "metadata": {},
   "outputs": [
    {
     "name": "stdout",
     "output_type": "stream",
     "text": [
      "MAE en test:  0.5656392574310303\n"
     ]
    }
   ],
   "source": [
    "print(\"MAE en test: \", mae_value)"
   ]
  },
  {
   "cell_type": "code",
   "execution_count": 26,
   "metadata": {},
   "outputs": [
    {
     "data": {
      "text/plain": [
       "0.30286343881419686"
      ]
     },
     "execution_count": 26,
     "metadata": {},
     "output_type": "execute_result"
    }
   ],
   "source": [
    "from sklearn.metrics import r2_score\n",
    "\n",
    "r2_score(y_test, y_pred)"
   ]
  },
  {
   "cell_type": "markdown",
   "metadata": {},
   "source": [
    "# Actividad 1\n",
    "\n",
    "Recoge los resultados anteriores en una tabla donde se indiquen los parámetros,\n",
    "resultados y métricas estudiados hasta el momento. Realizar estas ejecuciones para un número\n",
    "mayor de iteraciones del algoritmo (por ejemplo 20, 30, 40, 50...) ver qué ocurre. Comentar\n",
    "conclusiones obtenidas al observar los resultados."
   ]
  },
  {
   "cell_type": "code",
   "execution_count": 36,
   "metadata": {},
   "outputs": [
    {
     "name": "stderr",
     "output_type": "stream",
     "text": [
      "/usr/lib/python3.10/site-packages/sklearn/model_selection/_split.py:676: UserWarning: The least populated class in y has only 3 members, which is less than n_splits=5.\n",
      "  warnings.warn(\n",
      "/usr/lib/python3.10/site-packages/sklearn/model_selection/_split.py:676: UserWarning: The least populated class in y has only 3 members, which is less than n_splits=5.\n",
      "  warnings.warn(\n",
      "/usr/lib/python3.10/site-packages/sklearn/model_selection/_split.py:676: UserWarning: The least populated class in y has only 3 members, which is less than n_splits=5.\n",
      "  warnings.warn(\n",
      "/usr/lib/python3.10/site-packages/sklearn/model_selection/_split.py:676: UserWarning: The least populated class in y has only 3 members, which is less than n_splits=5.\n",
      "  warnings.warn(\n",
      "/usr/lib/python3.10/site-packages/sklearn/model_selection/_split.py:676: UserWarning: The least populated class in y has only 3 members, which is less than n_splits=5.\n",
      "  warnings.warn(\n"
     ]
    }
   ],
   "source": [
    "seed = 7\n",
    "np.random.seed(seed)\n",
    "\n",
    "resultados_df = pd.DataFrame(columns = ['NumEpochs', 'MSE', 'MAE', 'R2'])\n",
    "\n",
    "for num_epochs in range(10, 60, 10):\n",
    "    num_splits = 5\n",
    "\n",
    "    kfold = StratifiedKFold(n_splits=num_splits, shuffle=True, random_state=seed)\n",
    "    for train, test in kfold.split(X_train, y_train):\n",
    "        model = Sequential()\n",
    "        model.add(Dense(64, input_dim=12, activation='relu'))\n",
    "        model.add(Dense(1))\n",
    "        model.compile(optimizer='rmsprop', loss='mse', metrics=['mae'])\n",
    "        model.fit(X_train[train], y_train[train], epochs=num_epochs,verbose=0)\n",
    "        mse_value_cv, mae_value_cv=model.evaluate(X_train[test], y_train[test], verbose=0)\n",
    "\n",
    "    y_pred = model.predict(X_test)\n",
    "    mse_value, mae_value=model.evaluate(X_test, y_test, verbose=0)\n",
    "    r2_value = r2_score(y_test, y_pred)\n",
    "    resultados_df.loc[len(resultados_df)] = [num_epochs, mse_value, mae_value, r2_value]"
   ]
  },
  {
   "cell_type": "code",
   "execution_count": 38,
   "metadata": {},
   "outputs": [
    {
     "name": "stdout",
     "output_type": "stream",
     "text": [
      "   NumEpochs       MSE       MAE        R2\n",
      "0       10.0  0.542329  0.565683  0.300983\n",
      "1       20.0  0.484989  0.539951  0.374890\n",
      "2       30.0  0.487182  0.540248  0.372063\n",
      "3       40.0  0.483066  0.536280  0.377369\n",
      "4       50.0  0.483252  0.540959  0.377129\n"
     ]
    }
   ],
   "source": [
    "print(resultados_df)"
   ]
  },
  {
   "cell_type": "markdown",
   "metadata": {},
   "source": [
    "Como podemos ver, cuando aumentamos el número de épocas a 20 si conseguimos una mejora, sin embargo aunque sigamos aumentando el número de épocas ya no se mejora, por lo que podemos intuir que la red propuesta consigue encontrar un mínimo local con un valor de épocas entre 10 y 20. Este hiperparámetro es importante ya que hemos visto como el entrenamiento es mucho más lento a medida que subimos el número de épocas, por lo que si no conseguimos minimizar la función de perdida estaríamos perdiendo el tiempo entrenando un modelo que es imposible que se ajuste más a los datos.\n"
   ]
  },
  {
   "cell_type": "markdown",
   "metadata": {},
   "source": [
    "# Actividad 2\n",
    "\n",
    "Agregar más capas, probar con diferentes números de capas y construir una tabla con los resultados."
   ]
  },
  {
   "cell_type": "code",
   "execution_count": 40,
   "metadata": {},
   "outputs": [
    {
     "name": "stderr",
     "output_type": "stream",
     "text": [
      "/usr/lib/python3.10/site-packages/sklearn/model_selection/_split.py:676: UserWarning: The least populated class in y has only 3 members, which is less than n_splits=5.\n",
      "  warnings.warn(\n",
      "/usr/lib/python3.10/site-packages/sklearn/model_selection/_split.py:676: UserWarning: The least populated class in y has only 3 members, which is less than n_splits=5.\n",
      "  warnings.warn(\n",
      "/usr/lib/python3.10/site-packages/sklearn/model_selection/_split.py:676: UserWarning: The least populated class in y has only 3 members, which is less than n_splits=5.\n",
      "  warnings.warn(\n"
     ]
    }
   ],
   "source": [
    "\n",
    "seed = 7\n",
    "np.random.seed(seed)\n",
    "\n",
    "resultados_df = pd.DataFrame(columns = ['NumCapasOcultas', 'MSE', 'MAE', 'R2'])\n",
    "num_splits = 5\n",
    "\n",
    "kfold = StratifiedKFold(n_splits=num_splits, shuffle=True, random_state=seed)\n",
    "for train, test in kfold.split(X_train, y_train):\n",
    "    model = Sequential()\n",
    "    model.add(Dense(64, input_dim=12, activation='relu'))\n",
    "    model.add(Dense(64, activation='relu'))\n",
    "    model.add(Dense(1))\n",
    "    model.compile(optimizer='rmsprop', loss='mse', metrics=['mae'])\n",
    "    model.fit(X_train[train], y_train[train], epochs=20,verbose=0)\n",
    "    mse_value_cv, mae_value_cv=model.evaluate(X_train[test], y_train[test], verbose=0)\n",
    "\n",
    "y_pred = model.predict(X_test)\n",
    "mse_value, mae_value=model.evaluate(X_test, y_test, verbose=0)\n",
    "r2_value = r2_score(y_test, y_pred)\n",
    "\n",
    "resultados_df.loc[len(resultados_df)] = [1, mse_value, mae_value, r2_value]\n",
    "\n",
    "\n",
    "\n",
    "kfold = StratifiedKFold(n_splits=num_splits, shuffle=True, random_state=seed)\n",
    "for train, test in kfold.split(X_train, y_train):\n",
    "    model = Sequential()\n",
    "    model.add(Dense(64, input_dim=12, activation='relu'))\n",
    "    model.add(Dense(64, activation='relu'))\n",
    "    model.add(Dense(64, activation='relu'))\n",
    "    model.add(Dense(1))\n",
    "    model.compile(optimizer='rmsprop', loss='mse', metrics=['mae'])\n",
    "    model.fit(X_train[train], y_train[train], epochs=20,verbose=0)\n",
    "    mse_value_cv, mae_value_cv=model.evaluate(X_train[test], y_train[test], verbose=0)\n",
    "\n",
    "y_pred = model.predict(X_test)\n",
    "mse_value, mae_value=model.evaluate(X_test, y_test, verbose=0)\n",
    "r2_value = r2_score(y_test, y_pred)\n",
    "\n",
    "resultados_df.loc[len(resultados_df)] = [2, mse_value, mae_value, r2_value]\n",
    "\n",
    "\n",
    "kfold = StratifiedKFold(n_splits=num_splits, shuffle=True, random_state=seed)\n",
    "for train, test in kfold.split(X_train, y_train):\n",
    "    model = Sequential()\n",
    "    model.add(Dense(64, input_dim=12, activation='relu'))\n",
    "    model.add(Dense(64, activation='relu'))\n",
    "    model.add(Dense(64, activation='relu'))\n",
    "    model.add(Dense(64, activation='relu'))\n",
    "    model.add(Dense(1))\n",
    "    model.compile(optimizer='rmsprop', loss='mse', metrics=['mae'])\n",
    "    model.fit(X_train[train], y_train[train], epochs=20,verbose=0)\n",
    "    mse_value_cv, mae_value_cv=model.evaluate(X_train[test], y_train[test], verbose=0)\n",
    "\n",
    "y_pred = model.predict(X_test)\n",
    "mse_value, mae_value=model.evaluate(X_test, y_test, verbose=0)\n",
    "r2_value = r2_score(y_test, y_pred)\n",
    "\n",
    "resultados_df.loc[len(resultados_df)] = [3, mse_value, mae_value, r2_value]\n",
    "\n"
   ]
  },
  {
   "cell_type": "code",
   "execution_count": 41,
   "metadata": {},
   "outputs": [
    {
     "name": "stdout",
     "output_type": "stream",
     "text": [
      "   NumCapasOcultas       MSE       MAE        R2\n",
      "0              1.0  0.519938  0.560020  0.329843\n",
      "1              2.0  0.501778  0.554005  0.353250\n",
      "2              3.0  0.502056  0.544309  0.352892\n"
     ]
    }
   ],
   "source": [
    "print(resultados_df)"
   ]
  },
  {
   "cell_type": "markdown",
   "metadata": {},
   "source": [
    "En este caso el número de capas ocultas no influye mucho en los resultados, haciendolos variar muy poco (las diferencias no son significativas) en ninguno de las tres ejecuciones, aunque si vemos que se han empeorado un poco los resultados con respecto a no usar capas ocultas, por lo que en este problema no sería necesario incluir más capas ocultas."
   ]
  },
  {
   "cell_type": "markdown",
   "metadata": {},
   "source": [
    "# Actividad 3\n",
    "\n",
    "Agregar más unidades ocultas. Modificar el número de neuronas utilizadas en cada capa."
   ]
  },
  {
   "cell_type": "code",
   "execution_count": 43,
   "metadata": {},
   "outputs": [
    {
     "name": "stderr",
     "output_type": "stream",
     "text": [
      "/usr/lib/python3.10/site-packages/sklearn/model_selection/_split.py:676: UserWarning: The least populated class in y has only 3 members, which is less than n_splits=5.\n",
      "  warnings.warn(\n",
      "/usr/lib/python3.10/site-packages/sklearn/model_selection/_split.py:676: UserWarning: The least populated class in y has only 3 members, which is less than n_splits=5.\n",
      "  warnings.warn(\n",
      "/usr/lib/python3.10/site-packages/sklearn/model_selection/_split.py:676: UserWarning: The least populated class in y has only 3 members, which is less than n_splits=5.\n",
      "  warnings.warn(\n",
      "/usr/lib/python3.10/site-packages/sklearn/model_selection/_split.py:676: UserWarning: The least populated class in y has only 3 members, which is less than n_splits=5.\n",
      "  warnings.warn(\n"
     ]
    }
   ],
   "source": [
    "seed = 7\n",
    "np.random.seed(seed)\n",
    "\n",
    "resultados_df = pd.DataFrame(columns = ['NumNeuronas', 'NumCapasOcultas', 'MSE', 'MAE', 'R2'])\n",
    "\n",
    "num_splits = 5\n",
    "\n",
    "kfold = StratifiedKFold(n_splits=num_splits, shuffle=True, random_state=seed)\n",
    "for train, test in kfold.split(X_train, y_train):\n",
    "    model = Sequential()\n",
    "    model.add(Dense(32, input_dim=12, activation='relu'))\n",
    "    model.add(Dense(1))\n",
    "    model.compile(optimizer='rmsprop', loss='mse', metrics=['mae'])\n",
    "    model.fit(X_train[train], y_train[train], epochs=20,verbose=0)\n",
    "    mse_value_cv, mae_value_cv=model.evaluate(X_train[test], y_train[test], verbose=0)\n",
    "\n",
    "y_pred = model.predict(X_test)\n",
    "mse_value, mae_value=model.evaluate(X_test, y_test, verbose=0)\n",
    "r2_value = r2_score(y_test, y_pred)\n",
    "resultados_df.loc[len(resultados_df)] = [32, 0, mse_value, mae_value, r2_value]\n",
    "\n",
    "\n",
    "kfold = StratifiedKFold(n_splits=num_splits, shuffle=True, random_state=seed)\n",
    "for train, test in kfold.split(X_train, y_train):\n",
    "    model = Sequential()\n",
    "    model.add(Dense(128, input_dim=12, activation='relu'))\n",
    "    model.add(Dense(1))\n",
    "    model.compile(optimizer='rmsprop', loss='mse', metrics=['mae'])\n",
    "    model.fit(X_train[train], y_train[train], epochs=20,verbose=0)\n",
    "    mse_value_cv, mae_value_cv=model.evaluate(X_train[test], y_train[test], verbose=0)\n",
    "\n",
    "y_pred = model.predict(X_test)\n",
    "mse_value, mae_value=model.evaluate(X_test, y_test, verbose=0)\n",
    "r2_value = r2_score(y_test, y_pred)\n",
    "resultados_df.loc[len(resultados_df)] = [128, 0, mse_value, mae_value, r2_value]\n",
    "\n",
    "\n",
    "kfold = StratifiedKFold(n_splits=num_splits, shuffle=True, random_state=seed)\n",
    "for train, test in kfold.split(X_train, y_train):\n",
    "    model = Sequential()\n",
    "    model.add(Dense(32, input_dim=12, activation='relu'))\n",
    "    model.add(Dense(32, activation='relu'))\n",
    "    model.add(Dense(1))\n",
    "    model.compile(optimizer='rmsprop', loss='mse', metrics=['mae'])\n",
    "    model.fit(X_train[train], y_train[train], epochs=20,verbose=0)\n",
    "    mse_value_cv, mae_value_cv=model.evaluate(X_train[test], y_train[test], verbose=0)\n",
    "\n",
    "y_pred = model.predict(X_test)\n",
    "mse_value, mae_value=model.evaluate(X_test, y_test, verbose=0)\n",
    "r2_value = r2_score(y_test, y_pred)\n",
    "resultados_df.loc[len(resultados_df)] = [32, 1, mse_value, mae_value, r2_value]\n",
    "\n",
    "kfold = StratifiedKFold(n_splits=num_splits, shuffle=True, random_state=seed)\n",
    "for train, test in kfold.split(X_train, y_train):\n",
    "    model = Sequential()\n",
    "    model.add(Dense(128, input_dim=12, activation='relu'))\n",
    "    model.add(Dense(128, activation='relu'))\n",
    "    model.add(Dense(1))\n",
    "    model.compile(optimizer='rmsprop', loss='mse', metrics=['mae'])\n",
    "    model.fit(X_train[train], y_train[train], epochs=20,verbose=0)\n",
    "    mse_value_cv, mae_value_cv=model.evaluate(X_train[test], y_train[test], verbose=0)\n",
    "\n",
    "y_pred = model.predict(X_test)\n",
    "mse_value, mae_value=model.evaluate(X_test, y_test, verbose=0)\n",
    "r2_value = r2_score(y_test, y_pred)\n",
    "resultados_df.loc[len(resultados_df)] = [128, 1, mse_value, mae_value, r2_value]"
   ]
  },
  {
   "cell_type": "code",
   "execution_count": 44,
   "metadata": {},
   "outputs": [
    {
     "name": "stdout",
     "output_type": "stream",
     "text": [
      "   NumNeuronas  NumCapasOcultas       MSE       MAE        R2\n",
      "0         32.0              0.0  0.509591  0.548555  0.343180\n",
      "1        128.0              0.0  0.483459  0.537634  0.376862\n",
      "2         32.0              1.0  0.497301  0.545574  0.359021\n",
      "3        128.0              1.0  0.529593  0.567366  0.317399\n"
     ]
    }
   ],
   "source": [
    "print(resultados_df)"
   ]
  },
  {
   "cell_type": "markdown",
   "metadata": {},
   "source": [
    "Para esta actividad observamos un comportamiento muy interesante, reduciendo el número de neuronas no ha funcionado, y empeora si añadimos una capa oculta, sin embargo, si aumentamos el número de neuronas y no añadimos ninguna capa oculta mejoramos el resultado, que vuelve a empeorar si añadimos una capa oculta.\n",
    "\n",
    "Con esto podemos concluir que para este problema funciona mejor una estructura sin capas ocultas y con un número alto de neuronas en la capa de entrada."
   ]
  },
  {
   "cell_type": "markdown",
   "metadata": {},
   "source": [
    "# Actividad 4\n",
    "\n",
    "Modificar la tasa de aprendizaje del optimizador y probar con otro optimizador"
   ]
  },
  {
   "cell_type": "code",
   "execution_count": 51,
   "metadata": {},
   "outputs": [
    {
     "name": "stderr",
     "output_type": "stream",
     "text": [
      "/usr/lib/python3.10/site-packages/keras/optimizer_v2/rmsprop.py:130: UserWarning: The `lr` argument is deprecated, use `learning_rate` instead.\n",
      "  super(RMSprop, self).__init__(name, **kwargs)\n",
      "/usr/lib/python3.10/site-packages/sklearn/model_selection/_split.py:676: UserWarning: The least populated class in y has only 3 members, which is less than n_splits=5.\n",
      "  warnings.warn(\n",
      "/usr/lib/python3.10/site-packages/keras/optimizer_v2/rmsprop.py:130: UserWarning: The `lr` argument is deprecated, use `learning_rate` instead.\n",
      "  super(RMSprop, self).__init__(name, **kwargs)\n",
      "/usr/lib/python3.10/site-packages/sklearn/model_selection/_split.py:676: UserWarning: The least populated class in y has only 3 members, which is less than n_splits=5.\n",
      "  warnings.warn(\n",
      "/usr/lib/python3.10/site-packages/keras/optimizer_v2/rmsprop.py:130: UserWarning: The `lr` argument is deprecated, use `learning_rate` instead.\n",
      "  super(RMSprop, self).__init__(name, **kwargs)\n",
      "/usr/lib/python3.10/site-packages/sklearn/model_selection/_split.py:676: UserWarning: The least populated class in y has only 3 members, which is less than n_splits=5.\n",
      "  warnings.warn(\n",
      "/usr/lib/python3.10/site-packages/keras/optimizer_v2/rmsprop.py:130: UserWarning: The `lr` argument is deprecated, use `learning_rate` instead.\n",
      "  super(RMSprop, self).__init__(name, **kwargs)\n",
      "/usr/lib/python3.10/site-packages/sklearn/model_selection/_split.py:676: UserWarning: The least populated class in y has only 3 members, which is less than n_splits=5.\n",
      "  warnings.warn(\n",
      "/usr/lib/python3.10/site-packages/keras/optimizer_v2/rmsprop.py:130: UserWarning: The `lr` argument is deprecated, use `learning_rate` instead.\n",
      "  super(RMSprop, self).__init__(name, **kwargs)\n",
      "/usr/lib/python3.10/site-packages/sklearn/model_selection/_split.py:676: UserWarning: The least populated class in y has only 3 members, which is less than n_splits=5.\n",
      "  warnings.warn(\n"
     ]
    }
   ],
   "source": [
    "from tensorflow.keras.optimizers import RMSprop\n",
    "\n",
    "\n",
    "val_lr = [0.0001, 0.001, 0.01, 0.1, 0.5]\n",
    "resultados_df = pd.DataFrame(columns = ['lr', 'MSE', 'MAE', 'R2'])\n",
    "\n",
    "for val in val_lr:\n",
    "    rmsprop=RMSprop(lr=val)\n",
    "    seed = 7\n",
    "    np.random.seed(seed)\n",
    "\n",
    "    kfold = StratifiedKFold(n_splits=num_splits, shuffle=True, random_state=seed)\n",
    "    for train, test in kfold.split(X_train, y_train):\n",
    "        model = Sequential()\n",
    "        model.add(Dense(128, input_dim=12, activation='relu'))\n",
    "        model.add(Dense(1))\n",
    "        model.compile(optimizer=rmsprop, loss='mse', metrics=['mae'])\n",
    "        model.fit(X_train[train], y_train[train], epochs=20,verbose=0)\n",
    "        mse_value_cv, mae_value_cv=model.evaluate(X_train[test], y_train[test], verbose=0)\n",
    "\n",
    "    y_pred = model.predict(X_test)\n",
    "    mse_value, mae_value=model.evaluate(X_test, y_test, verbose=0)\n",
    "    r2_value = r2_score(y_test, y_pred)\n",
    "    resultados_df.loc[len(resultados_df)] = [val, mse_value, mae_value, r2_value]"
   ]
  },
  {
   "cell_type": "code",
   "execution_count": 52,
   "metadata": {},
   "outputs": [
    {
     "name": "stdout",
     "output_type": "stream",
     "text": [
      "       lr       MSE       MAE        R2\n",
      "0  0.0001  1.136267  0.829298 -0.464554\n",
      "1  0.0010  0.492091  0.544494  0.365735\n",
      "2  0.0100  0.597627  0.595906  0.229708\n",
      "3  0.1000  0.595567  0.615944  0.232364\n",
      "4  0.5000  0.799259  0.722768 -0.030178\n"
     ]
    }
   ],
   "source": [
    "print(resultados_df)"
   ]
  },
  {
   "cell_type": "markdown",
   "metadata": {},
   "source": [
    "En este caso vemos como usar una tasa de aprendizaje muy baja (0.0001) o muy alta (0.5) es un gran problema, empeoramos muchisimo los resultados, sin embargo con tasas de aprendizaje intermedias, commo 0.001, conseguimos los mejores resultados. Esto nos muestra la importancia de la tasa de aprendizaje, que se debe tener en cuenta dependiendo de cada problema."
   ]
  },
  {
   "cell_type": "code",
   "execution_count": 54,
   "metadata": {},
   "outputs": [
    {
     "name": "stderr",
     "output_type": "stream",
     "text": [
      "/usr/lib/python3.10/site-packages/keras/optimizer_v2/gradient_descent.py:102: UserWarning: The `lr` argument is deprecated, use `learning_rate` instead.\n",
      "  super(SGD, self).__init__(name, **kwargs)\n",
      "/usr/lib/python3.10/site-packages/sklearn/model_selection/_split.py:676: UserWarning: The least populated class in y has only 3 members, which is less than n_splits=5.\n",
      "  warnings.warn(\n",
      "/usr/lib/python3.10/site-packages/keras/optimizer_v2/gradient_descent.py:102: UserWarning: The `lr` argument is deprecated, use `learning_rate` instead.\n",
      "  super(SGD, self).__init__(name, **kwargs)\n",
      "/usr/lib/python3.10/site-packages/sklearn/model_selection/_split.py:676: UserWarning: The least populated class in y has only 3 members, which is less than n_splits=5.\n",
      "  warnings.warn(\n",
      "/usr/lib/python3.10/site-packages/keras/optimizer_v2/gradient_descent.py:102: UserWarning: The `lr` argument is deprecated, use `learning_rate` instead.\n",
      "  super(SGD, self).__init__(name, **kwargs)\n",
      "/usr/lib/python3.10/site-packages/sklearn/model_selection/_split.py:676: UserWarning: The least populated class in y has only 3 members, which is less than n_splits=5.\n",
      "  warnings.warn(\n",
      "/usr/lib/python3.10/site-packages/keras/optimizer_v2/gradient_descent.py:102: UserWarning: The `lr` argument is deprecated, use `learning_rate` instead.\n",
      "  super(SGD, self).__init__(name, **kwargs)\n",
      "/usr/lib/python3.10/site-packages/sklearn/model_selection/_split.py:676: UserWarning: The least populated class in y has only 3 members, which is less than n_splits=5.\n",
      "  warnings.warn(\n"
     ]
    }
   ],
   "source": [
    "from tensorflow.keras.optimizers import SGD, RMSprop\n",
    "\n",
    "\n",
    "val_lr = [0.0001, 0.001, 0.01, 0.1]\n",
    "resultados_df = pd.DataFrame(columns = ['lr', 'MSE', 'MAE', 'R2'])\n",
    "\n",
    "for val in val_lr:\n",
    "    sgd=SGD(lr=val)\n",
    "    seed = 7\n",
    "    np.random.seed(seed)\n",
    "\n",
    "    kfold = StratifiedKFold(n_splits=num_splits, shuffle=True, random_state=seed)\n",
    "    for train, test in kfold.split(X_train, y_train):\n",
    "        model = Sequential()\n",
    "        model.add(Dense(128, input_dim=12, activation='relu'))\n",
    "        model.add(Dense(1))\n",
    "        model.compile(optimizer=sgd, loss='mse', metrics=['mae'])\n",
    "        model.fit(X_train[train], y_train[train], epochs=20,verbose=0)\n",
    "        mse_value_cv, mae_value_cv=model.evaluate(X_train[test], y_train[test], verbose=0)\n",
    "\n",
    "    y_pred = model.predict(X_test)\n",
    "    mse_value, mae_value=model.evaluate(X_test, y_test, verbose=0)\n",
    "    r2_value = r2_score(y_test, y_pred)\n",
    "    resultados_df.loc[len(resultados_df)] = [val, mse_value, mae_value, r2_value]"
   ]
  },
  {
   "cell_type": "code",
   "execution_count": 55,
   "metadata": {},
   "outputs": [
    {
     "name": "stdout",
     "output_type": "stream",
     "text": [
      "       lr       MSE       MAE        R2\n",
      "0  0.0001  1.697351  1.030357 -1.187744\n",
      "1  0.0010  0.722865  0.655127  0.068288\n",
      "2  0.0100  0.484744  0.538332  0.375206\n",
      "3  0.1000  0.506890  0.549819  0.346661\n"
     ]
    }
   ],
   "source": [
    "print(resultados_df)"
   ]
  },
  {
   "cell_type": "markdown",
   "metadata": {},
   "source": [
    "En este caso se ha excluido el valor de lr 0.5 ya que ha dado un error al calcular la métrica R2, por lo que al igual que con el optimizador rmsprop una tasa de aprendizaje demasiado alta es muy problemática. \n",
    "\n",
    "También podemos ver como con tasas de aprendizaje muy bajas también es muy problemático, consiguiendo unos resultados muy malos.\n",
    "\n",
    "Para este optimizador, es mejor una tasa de aprendizaje de 0.01, en lugar de la 0.001 utilizada en el otro optimizador, por lo que podemos ver que también dependiendo del optimizador es importante ajustar la tasa de aprendizaje, ya que además del problema tambien depende del optimizador usado."
   ]
  },
  {
   "cell_type": "markdown",
   "metadata": {},
   "source": [
    "En este caso, vemos como la mejor configuración encontrada para este problema es una red sin capas ocultas, con un número alto de neuronas, y el optimizador es independiente siempre que se ajuste la tasa de aprendizaje, ya que con SGD con lr = 0.01 y con MSProp con lr = 0.001 conseguimos unos resultados muy similares. "
   ]
  }
 ],
 "metadata": {
  "kernelspec": {
   "display_name": "Python 3 (ipykernel)",
   "language": "python",
   "name": "python3"
  },
  "language_info": {
   "codemirror_mode": {
    "name": "ipython",
    "version": 3
   },
   "file_extension": ".py",
   "mimetype": "text/x-python",
   "name": "python",
   "nbconvert_exporter": "python",
   "pygments_lexer": "ipython3",
   "version": "3.10.2"
  }
 },
 "nbformat": 4,
 "nbformat_minor": 2
}
